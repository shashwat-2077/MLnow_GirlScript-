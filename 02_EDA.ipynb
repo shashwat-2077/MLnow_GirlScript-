{
  "nbformat": 4,
  "nbformat_minor": 0,
  "metadata": {
    "colab": {
      "name": "02_EDA.ipynb",
      "provenance": [],
      "toc_visible": true,
      "mount_file_id": "1Erd00hJq71gkpgLVuIG3p1WeseghUs6z",
      "authorship_tag": "ABX9TyMM2unZx+jMgy48In0UUMeg",
      "include_colab_link": true
    },
    "kernelspec": {
      "name": "python3",
      "display_name": "Python 3"
    },
    "language_info": {
      "name": "python"
    }
  },
  "cells": [
    {
      "cell_type": "markdown",
      "metadata": {
        "id": "view-in-github",
        "colab_type": "text"
      },
      "source": [
        "<a href=\"https://colab.research.google.com/github/shashwat-2077/MLnow_GirlScript-/blob/main/02_EDA.ipynb\" target=\"_parent\"><img src=\"https://colab.research.google.com/assets/colab-badge.svg\" alt=\"Open In Colab\"/></a>"
      ]
    },
    {
      "cell_type": "code",
      "metadata": {
        "colab": {
          "base_uri": "https://localhost:8080/"
        },
        "id": "FvOQS6rp8iBu",
        "outputId": "9c0da84e-f24d-4793-96f4-eaf09c4e1f2f"
      },
      "source": [
        "from google.colab import drive\n",
        "drive.mount('/content/drive')"
      ],
      "execution_count": 8,
      "outputs": [
        {
          "output_type": "stream",
          "text": [
            "Drive already mounted at /content/drive; to attempt to forcibly remount, call drive.mount(\"/content/drive\", force_remount=True).\n"
          ],
          "name": "stdout"
        }
      ]
    },
    {
      "cell_type": "code",
      "metadata": {
        "id": "l52WDiYeAAQ2",
        "colab": {
          "base_uri": "https://localhost:8080/"
        },
        "outputId": "2b89016b-a29c-4da4-a5ad-d7b139066c78"
      },
      "source": [
        "cd '/content/drive/MyDrive/LiveCodeSession/02_EDA/student'"
      ],
      "execution_count": 9,
      "outputs": [
        {
          "output_type": "stream",
          "text": [
            "/content/drive/MyDrive/LiveCodeSession/02_EDA/student\n"
          ],
          "name": "stdout"
        }
      ]
    },
    {
      "cell_type": "code",
      "metadata": {
        "id": "vjm7omIFAUyH",
        "colab": {
          "base_uri": "https://localhost:8080/"
        },
        "outputId": "19ec4880-baf0-4653-da2d-2a753470ac14"
      },
      "source": [
        "ls"
      ],
      "execution_count": 11,
      "outputs": [
        {
          "output_type": "stream",
          "text": [
            "student-mat.csv  student-merge.R  student-por.csv  student.txt\n"
          ],
          "name": "stdout"
        }
      ]
    },
    {
      "cell_type": "code",
      "metadata": {
        "id": "nmhN2uxSAYRO"
      },
      "source": [
        "import pandas as pd #working with csv or excel files\n",
        "import numpy as np #working with numercal/ arrays/ tensors\n",
        "from tensorflow import keras #API/ library\n",
        "import os #using os commands between the python language\n"
      ],
      "execution_count": 14,
      "outputs": []
    },
    {
      "cell_type": "code",
      "metadata": {
        "id": "bNecOUgGA39F"
      },
      "source": [
        "mathData = pd.read_csv('student-mat.csv', sep = ';') #load the csv file as dataframe"
      ],
      "execution_count": null,
      "outputs": []
    },
    {
      "cell_type": "code",
      "metadata": {
        "id": "IMTTuj-JBct0"
      },
      "source": [
        "mathData.tail()"
      ],
      "execution_count": null,
      "outputs": []
    },
    {
      "cell_type": "code",
      "metadata": {
        "id": "f61T9KQLBB6P"
      },
      "source": [
        "mathData.head(10) #print the first ten rows of the dataframe"
      ],
      "execution_count": null,
      "outputs": []
    },
    {
      "cell_type": "markdown",
      "metadata": {
        "id": "h_j4O1T_Bxy9"
      },
      "source": [
        "## Data Processing \n",
        "\n",
        "# Categorical to numerical value conversion"
      ]
    },
    {
      "cell_type": "code",
      "metadata": {
        "id": "F5_V50qCBuwg"
      },
      "source": [
        "# unique classes/categories in every column\n",
        "\n",
        "# variable.column.unique() --> all {column} values from the {variable} dataframe and print out the unique ones.\n",
        "\n",
        "print (f'school: {mathData.school.unique()}')\n",
        "print (f'sex: {mathData.sex.unique()}')\n",
        "print (f'address: {mathData.address.unique()}')\n",
        "print (f'Mjob: {mathData.Mjob.unique()}')\n",
        "print (f'Fjob: {mathData.Fjob.unique()}')\n",
        "print (f'higher: {mathData.higher.unique()}')\n"
      ],
      "execution_count": null,
      "outputs": []
    },
    {
      "cell_type": "markdown",
      "metadata": {
        "id": "zK0nguYQEcAt"
      },
      "source": [
        "Considering the \n",
        "'''\n",
        "mathData['school'] = mathData['school'].apply({'GP':1, 'MS':0}.get)\n",
        "'''\n",
        "\n",
        "Access the column `school` from the variable `mathData` (which has the pandas dataframe).\n",
        "once we access it, since we are using a dictionary we will assign the string / categorical values with numeric data.\n",
        "\n",
        "Meaning --> Replace `GP` with 1\n",
        "Meaning --> Replace `MS` with 2\n"
      ]
    },
    {
      "cell_type": "code",
      "metadata": {
        "id": "C16yX-OxDAVW"
      },
      "source": [
        "#conver the categories into numbers\n",
        "\n",
        "#binary valued\n",
        "\n",
        "mathData['school'] = mathData['school'].apply({'GP':1, 'MS':0}.get)\n",
        "mathData['sex'] = mathData['sex'].apply({'F':1, 'M':0}.get)\n",
        "mathData['address'] = mathData['address'].apply({'U':1, 'R':0}.get)\n",
        "mathData['higher'] = mathData['higher'].apply({'yes':1, 'no':0}.get)\n",
        "\n",
        "#multi-valued\n",
        "\n",
        "mathData['Mjob'] = mathData ['Mjob'].apply({'at_home':1, 'health':2, 'other':3, 'services':4, 'teacher':5}.get)\n",
        "mathData['Fjob'] = mathData['Fjob'].apply({'at_home':1, 'health':2, 'other':3, 'services':4, 'teacher':5}.get)\n",
        "\n",
        "mathData.head(15)\n",
        "\n"
      ],
      "execution_count": null,
      "outputs": []
    }
  ]
}